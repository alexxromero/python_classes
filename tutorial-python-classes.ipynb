{
 "cells": [
  {
   "cell_type": "markdown",
   "metadata": {},
   "source": [
    "## Python classes and methods\n",
    "\n",
    "Python is an object-oriented programming (OOP) language, which means that its programming paradigm is based on \"objects,\" and a way to define the data format and procedure of the objects is via classes. \n",
    "\n",
    "Programming lingo can be confusing at first, so let's review some basic definitions:   \n",
    "- Class: User-defined prototype from which objects are created. Classes are the fundamental building blocks of Python as they provide the means for building the data and functionality of an objects altogether. \n",
    "- Class variable: A variable that is shared by all instances of a class.  \n",
    "- Instance: An object of a certain class.  \n",
    "- Instance variable: A variable that is define inside a method and belongs only to the current class instance.  \n",
    "- Method: A function that is defined as a class definition.  \n",
    "- Object: An instance of a data structure that is define by its class. An object is comprised by both the data members and the methods of its class. \n",
    "\n",
    "If this is still confusing, don't worry, let's put the definitions in context by creating a class that defines all particles in the standard model. "
   ]
  },
  {
   "cell_type": "markdown",
   "metadata": {},
   "source": [
    "### Standard model - A Python class\n",
    "\n",
    "Let's start by defining the class. To do this, you simply need to define a class as:"
   ]
  },
  {
   "cell_type": "code",
   "execution_count": null,
   "metadata": {},
   "outputs": [],
   "source": []
  }
 ],
 "metadata": {
  "kernelspec": {
   "display_name": "Python 3",
   "language": "python",
   "name": "python3"
  },
  "language_info": {
   "codemirror_mode": {
    "name": "ipython",
    "version": 3
   },
   "file_extension": ".py",
   "mimetype": "text/x-python",
   "name": "python",
   "nbconvert_exporter": "python",
   "pygments_lexer": "ipython3",
   "version": "3.6.8"
  }
 },
 "nbformat": 4,
 "nbformat_minor": 2
}
