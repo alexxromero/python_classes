{
 "cells": [
  {
   "cell_type": "markdown",
   "metadata": {},
   "source": [
    "## Python classes and methods\n",
    "\n",
    "Python is an object-oriented programming (OOP) language, which means that its programming paradigm is based on \"objects\" and classes are the vessels for these objects.  \n",
    "\n",
    "Programming lingo can be confusing at first, so let's review some basic definitions:   \n",
    "- Class: User-defined prototype from which objects are created.  \n",
    "- Class variable: A variable that is shared by all instances of a class.  \n",
    "- Instance: An object of a certain class.  \n",
    "- Instance variable: A variable that is define inside a method and belongs only to the current class instance.  \n",
    "- Method: A function that is defined as a class definition.  \n",
    "- Object: An instance of a data structure that is define by its class. An object is comprised by both the data members and the methods of its class. \n",
    "\n",
    "If this is still confusing, don't worry, let's put the definitions in context by creating a class that contains all particles in the standard model. "
   ]
  },
  {
   "cell_type": "markdown",
   "metadata": {},
   "source": [
    "<img src=\"./sm_image.png\">"
   ]
  },
  {
   "cell_type": "markdown",
   "metadata": {},
   "source": [
    "### Standard model - A Python class\n",
    "\n",
    "Let's start by defining a simple class called StandardModel."
   ]
  },
  {
   "cell_type": "code",
   "execution_count": 1,
   "metadata": {},
   "outputs": [],
   "source": [
    "class StandardModel:  # this is a class with no arguments that does nothing.\n",
    "    pass  # null operator "
   ]
  },
  {
   "cell_type": "markdown",
   "metadata": {},
   "source": [
    "We can create an instances of that class simply by typing:"
   ]
  },
  {
   "cell_type": "code",
   "execution_count": 2,
   "metadata": {},
   "outputs": [
    {
     "name": "stdout",
     "output_type": "stream",
     "text": [
      "<__main__.StandardModel object at 0x104199a50>\n",
      "<__main__.StandardModel object at 0x104199a90>\n"
     ]
    }
   ],
   "source": [
    "instance = StandardModel()\n",
    "print(instance)\n",
    "\n",
    "second_instance = StandardModel()\n",
    "print(second_instance)"
   ]
  },
  {
   "cell_type": "markdown",
   "metadata": {},
   "source": [
    "Now, let's add attributes to the class. The attributes could be variables or methods (functions). \n",
    "\n",
    "For example, let's make all particle groups the class variables. If a new SUSY particle is discovered, we can use a method to add this particle to the list of known particles. "
   ]
  },
  {
   "cell_type": "code",
   "execution_count": 3,
   "metadata": {},
   "outputs": [],
   "source": [
    "class StandardModel:\n",
    "    # class attributes \n",
    "    quarks = ['up', 'down', 'charm', 'strange', 'top', 'bottom']\n",
    "    leptons = ['electron', 'muon', 'tau', \n",
    "                    'electron_neutrino', 'muon_neutrino', 'tau_neutrino']\n",
    "    vector_bosons = ['gluon', 'photon', 'Z', 'W']\n",
    "    scalar_bosons = ['higgs']\n",
    "    susy = []\n",
    "    \n",
    "    # class method\n",
    "    # notice that the first argument of the method is self. This keyword\n",
    "    # represents the instance of the class, and allows you to access its \n",
    "    # methods and attributes. \n",
    "    def new_susy_particle(self, susy_particle_name):\n",
    "        self.susy.append(susy_particle_name)"
   ]
  },
  {
   "cell_type": "code",
   "execution_count": 4,
   "metadata": {},
   "outputs": [
    {
     "name": "stdout",
     "output_type": "stream",
     "text": [
      "quarks:  ['up', 'down', 'charm', 'strange', 'top', 'bottom']\n",
      "leptons:  ['electron', 'muon', 'tau', 'electron_neutrino', 'muon_neutrino', 'tau_neutrino']\n",
      "vector_bosons:  ['gluon', 'photon', 'Z', 'W']\n",
      "scalar_bosons:  ['higgs']\n",
      "susy:  []\n",
      " \n",
      " -- After discovering SUSY! -- \n",
      "quarks:  ['up', 'down', 'charm', 'strange', 'top', 'bottom']\n",
      "leptons:  ['electron', 'muon', 'tau', 'electron_neutrino', 'muon_neutrino', 'tau_neutrino']\n",
      "vector_bosons:  ['gluon', 'photon', 'Z', 'W']\n",
      "scalar_bosons:  ['higgs']\n",
      "susy:  ['neutralino', 'higgsino', 'gluino']\n"
     ]
    }
   ],
   "source": [
    "sm = StandardModel()  \n",
    "print(\"quarks: \", sm.quarks)\n",
    "print(\"leptons: \", sm.leptons)\n",
    "print(\"vector_bosons: \", sm.vector_bosons)\n",
    "print(\"scalar_bosons: \", sm.scalar_bosons)\n",
    "print(\"susy: \", sm.susy)\n",
    "\n",
    "\n",
    "# now, let's add a some SUSY particles to the sm instance \n",
    "print(\" \")\n",
    "print(\" -- After discovering SUSY! -- \")\n",
    "sm.new_susy_particle(\"neutralino\")\n",
    "sm.new_susy_particle(\"higgsino\")\n",
    "sm.new_susy_particle(\"gluino\")\n",
    "print(\"quarks: \", sm.quarks)\n",
    "print(\"leptons: \", sm.leptons)\n",
    "print(\"vector_bosons: \", sm.vector_bosons)\n",
    "print(\"scalar_bosons: \", sm.scalar_bosons)\n",
    "print(\"susy: \", sm.susy)"
   ]
  },
  {
   "cell_type": "markdown",
   "metadata": {},
   "source": [
    "Say you want to pass arguments to the class at runtime. This can be done with the $__init__$ method, also known as the class constructor.  \n",
    "\n",
    "The class below takes as arguments the spins of the standard model groups. "
   ]
  },
  {
   "cell_type": "code",
   "execution_count": 5,
   "metadata": {},
   "outputs": [],
   "source": [
    "class StandardModel:\n",
    "    quarks = ['up', 'down', 'charm', 'strange', 'top', 'bottom']\n",
    "    leptons = ['electron', 'muon', 'tau', \n",
    "                    'electron_neutrino', 'muon_neutrino', 'tau_neutrino']\n",
    "    vector_bosons = ['gluon', 'photon', 'Z', 'W']\n",
    "    scalar_bosons = ['higgs']\n",
    "    susy = []\n",
    "    \n",
    "    def __init__(self, quarks_spin, leptons_spin, \n",
    "                       vector_bosons_spin, scalar_bosons_spin):\n",
    "        self.quarks_spin = quarks_spin \n",
    "        self.leptons_spin = leptons_spin \n",
    "        self.vector_bosons_spin = vector_bosons_spin \n",
    "        self.scalar_bosons_spin = scalar_bosons_spin"
   ]
  },
  {
   "cell_type": "code",
   "execution_count": 6,
   "metadata": {},
   "outputs": [
    {
     "name": "stdout",
     "output_type": "stream",
     "text": [
      "quark types:  ['up', 'down', 'charm', 'strange', 'top', 'bottom']  spin:  1/2\n",
      "lepton types:  ['electron', 'muon', 'tau', 'electron_neutrino', 'muon_neutrino', 'tau_neutrino']  spin:  1/2\n",
      "vector bosons types:  ['gluon', 'photon', 'Z', 'W']  spin:  1\n",
      "scalar bosons types:  ['higgs']  spin:  0\n"
     ]
    }
   ],
   "source": [
    "sm = StandardModel(quarks_spin = \"1/2\", leptons_spin = \"1/2\", \n",
    "                       vector_bosons_spin = \"1\", scalar_bosons_spin = \"0\")\n",
    "\n",
    "print(\"quark types: \", sm.quarks, \" spin: \", sm.quarks_spin)\n",
    "print(\"lepton types: \", sm.leptons, \" spin: \", sm.leptons_spin)\n",
    "print(\"vector bosons types: \", sm.vector_bosons, \" spin: \", sm.vector_bosons_spin)\n",
    "print(\"scalar bosons types: \", sm.scalar_bosons, \" spin: \", sm.scalar_bosons_spin)\n"
   ]
  },
  {
   "cell_type": "code",
   "execution_count": null,
   "metadata": {},
   "outputs": [],
   "source": []
  }
 ],
 "metadata": {
  "kernelspec": {
   "display_name": "Python 3",
   "language": "python",
   "name": "python3"
  },
  "language_info": {
   "codemirror_mode": {
    "name": "ipython",
    "version": 3
   },
   "file_extension": ".py",
   "mimetype": "text/x-python",
   "name": "python",
   "nbconvert_exporter": "python",
   "pygments_lexer": "ipython3",
   "version": "3.7.6"
  }
 },
 "nbformat": 4,
 "nbformat_minor": 2
}
